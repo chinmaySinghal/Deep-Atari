{
 "cells": [
  {
   "cell_type": "code",
   "execution_count": 45,
   "metadata": {},
   "outputs": [],
   "source": [
    "from selenium import webdriver\n",
    "from selenium.webdriver.common.by import By\n",
    "from selenium.webdriver.common.keys import Keys\n",
    "from selenium.webdriver.common.action_chains import ActionChains\n",
    "import time\n",
    "import numpy as np\n",
    "from PIL import Image\n",
    "from PIL import ImageGrab\n",
    "import io\n",
    "import matplotlib.pyplot as plt\n",
    "import torch\n",
    "import torch.nn as nn\n",
    "import torch.nn.functional as F\n",
    "from torch.autograd import Variable\n",
    "from torch.optim import Adam,SGD\n",
    "from torch.utils import data\n",
    "import pyautogui\n",
    "from skimage.transform import resize"
   ]
  },
  {
   "cell_type": "code",
   "execution_count": 2,
   "metadata": {},
   "outputs": [],
   "source": [
    "game_url = \"chrome://dino\"\n",
    "our_game = \"https://regressionist.github.io/Game/index.html\""
   ]
  },
  {
   "cell_type": "code",
   "execution_count": 10,
   "metadata": {},
   "outputs": [],
   "source": [
    "options = webdriver.ChromeOptions()\n",
    "options.add_argument('--ignore-certificate-errors')\n",
    "options.add_argument(\"--test-type\")\n",
    "options.add_argument(\"--start-maximized\")"
   ]
  },
  {
   "cell_type": "code",
   "execution_count": 59,
   "metadata": {},
   "outputs": [],
   "source": [
    "def start_env():\n",
    "    img1=resize(np.array(pyautogui.screenshot().convert('L'))[300:700,0:1200],(80,80),mode='reflect',anti_aliasing=True)\n",
    "    img2=resize(np.array(pyautogui.screenshot().convert('L'))[300:700,0:1200],(80,80),mode='reflect',anti_aliasing=True)\n",
    "    img3=resize(np.array(pyautogui.screenshot().convert('L'))[300:700,0:1200],(80,80),mode='reflect',anti_aliasing=True)\n",
    "    img4=resize(np.array(pyautogui.screenshot().convert('L'))[300:700,0:1200],(80,80),mode='reflect',anti_aliasing=True)\n",
    "    img=np.concatenate((img1.reshape(80,80,1),img2.reshape(80,80,1),img3.reshape(80,80,1),img4.reshape(80,80,1)),axis=2)\n",
    "    return torch.tensor(img).float()"
   ]
  },
  {
   "cell_type": "code",
   "execution_count": 80,
   "metadata": {},
   "outputs": [],
   "source": [
    "class DeepQAgent(nn.Module):\n",
    "    def __init__(self):\n",
    "        super(DeepQAgent,self).__init__()\n",
    "        self.conv1=nn.Sequential(nn.Conv2d(4,32,8,4,0),nn.ReLU())\n",
    "        self.maxpool1 = nn.MaxPool2d(kernel_size=2)\n",
    "        self.conv2=nn.Sequential(nn.Conv2d(32,64,4,2,0),nn.ReLU())\n",
    "        self.conv3=nn.Sequential(nn.Conv2d(64,64,3,1,0),nn.ReLU())\n",
    "        self.linear1=nn.Sequential(nn.Linear(64,1),nn.ReLU())\n",
    "        self.sigmoid=nn.Sigmoid()\n",
    "        \n",
    "    def forward(self,input_img):\n",
    "        out=self.maxpool1(self.conv1(input_img))\n",
    "        out=self.conv3(self.conv2(out))\n",
    "        out=out.view(-1)\n",
    "        out=self.sigmoid(self.linear1(out))\n",
    "        return out"
   ]
  },
  {
   "cell_type": "code",
   "execution_count": 81,
   "metadata": {},
   "outputs": [],
   "source": [
    "agent=DeepQAgent()\n",
    "optimizer=Adam(agent.parameters())\n",
    "criterion=nn.MSELoss()"
   ]
  },
  {
   "cell_type": "code",
   "execution_count": 82,
   "metadata": {},
   "outputs": [
    {
     "name": "stdout",
     "output_type": "stream",
     "text": [
      "tensor([0.5144], grad_fn=<SigmoidBackward>)\n",
      "tensor([0.5139], grad_fn=<SigmoidBackward>)\n",
      "tensor([0.5136], grad_fn=<SigmoidBackward>)\n",
      "tensor([0.5139], grad_fn=<SigmoidBackward>)\n",
      "tensor([0.5136], grad_fn=<SigmoidBackward>)\n",
      "tensor([0.5144], grad_fn=<SigmoidBackward>)\n",
      "tensor([0.5134], grad_fn=<SigmoidBackward>)\n",
      "tensor([0.5144], grad_fn=<SigmoidBackward>)\n",
      "tensor([0.5144], grad_fn=<SigmoidBackward>)\n",
      "tensor([0.5144], grad_fn=<SigmoidBackward>)\n",
      "tensor([0.5144], grad_fn=<SigmoidBackward>)\n",
      "tensor([0.5140], grad_fn=<SigmoidBackward>)\n",
      "tensor([0.5137], grad_fn=<SigmoidBackward>)\n",
      "tensor([0.5139], grad_fn=<SigmoidBackward>)\n",
      "tensor([0.5139], grad_fn=<SigmoidBackward>)\n",
      "tensor([0.5137], grad_fn=<SigmoidBackward>)\n",
      "tensor([0.5139], grad_fn=<SigmoidBackward>)\n",
      "tensor([0.5142], grad_fn=<SigmoidBackward>)\n",
      "tensor([0.5143], grad_fn=<SigmoidBackward>)\n",
      "tensor([0.5135], grad_fn=<SigmoidBackward>)\n",
      "tensor([0.5137], grad_fn=<SigmoidBackward>)\n",
      "tensor([0.5138], grad_fn=<SigmoidBackward>)\n",
      "tensor([0.5139], grad_fn=<SigmoidBackward>)\n",
      "tensor([0.5148], grad_fn=<SigmoidBackward>)\n",
      "tensor([0.5143], grad_fn=<SigmoidBackward>)\n",
      "tensor([0.5143], grad_fn=<SigmoidBackward>)\n"
     ]
    }
   ],
   "source": [
    "for epoch in range(0,2):\n",
    "    driver = webdriver.Chrome(options=options)\n",
    "    driver.get(our_game)\n",
    "    stop_signal=0\n",
    "    img_last=0\n",
    "    while(stop_signal!=1):\n",
    "        img=start_env()\n",
    "        prob=agent(img.permute(2,0,1).unsqueeze(0))\n",
    "        print (prob)\n",
    "        if(prob>0.5):\n",
    "            ActionChains(driver).send_keys(Keys.SPACE).perform()\n",
    "        if(np.array_equal(img,img_last)):\n",
    "            stop_signal=1\n",
    "        else:\n",
    "            \n",
    "        img_last=img"
   ]
  },
  {
   "cell_type": "code",
   "execution_count": 13,
   "metadata": {},
   "outputs": [
    {
     "data": {
      "text/plain": [
       "torch.Size([400, 1200])"
      ]
     },
     "execution_count": 13,
     "metadata": {},
     "output_type": "execute_result"
    }
   ],
   "source": [
    "img.size()"
   ]
  },
  {
   "cell_type": "code",
   "execution_count": 86,
   "metadata": {},
   "outputs": [
    {
     "data": {
      "text/plain": [
       "<matplotlib.image.AxesImage at 0x1c2f605dd8>"
      ]
     },
     "execution_count": 86,
     "metadata": {},
     "output_type": "execute_result"
    },
    {
     "data": {
      "image/png": "[encoded data removed]",
      "text/plain": [
       "<Figure size 432x288 with 1 Axes>"
      ]
     },
     "metadata": {
      "needs_background": "light"
     },
     "output_type": "display_data"
    }
   ],
   "source": [
    "plt.imshow(img[:,:,0])"
   ]
  },
  {
   "cell_type": "code",
   "execution_count": 53,
   "metadata": {},
   "outputs": [
    {
     "data": {
      "text/plain": [
       "tensor([[[0.0157, 0.0157, 0.0157, 0.0157],\n",
       "         [0.4745, 0.4745, 0.4745, 0.4745],\n",
       "         [0.8824, 0.8824, 0.8824, 0.8824],\n",
       "         ...,\n",
       "         [0.8980, 0.8980, 0.8980, 0.8980],\n",
       "         [0.8980, 0.8980, 0.8980, 0.8980],\n",
       "         [0.8980, 0.8980, 0.8980, 0.8980]],\n",
       "\n",
       "        [[0.0157, 0.0157, 0.0157, 0.0157],\n",
       "         [0.4627, 0.4627, 0.4627, 0.4627],\n",
       "         [0.8667, 0.8667, 0.8667, 0.8667],\n",
       "         ...,\n",
       "         [0.8784, 0.8784, 0.8784, 0.8784],\n",
       "         [0.8784, 0.8784, 0.8784, 0.8784],\n",
       "         [0.8784, 0.8784, 0.8784, 0.8784]],\n",
       "\n",
       "        [[0.0157, 0.0157, 0.0157, 0.0157],\n",
       "         [0.4627, 0.4627, 0.4627, 0.4627],\n",
       "         [0.8667, 0.8667, 0.8667, 0.8667],\n",
       "         ...,\n",
       "         [0.8784, 0.8784, 0.8784, 0.8784],\n",
       "         [0.8784, 0.8784, 0.8784, 0.8784],\n",
       "         [0.8784, 0.8784, 0.8784, 0.8784]],\n",
       "\n",
       "        ...,\n",
       "\n",
       "        [[0.0157, 0.0157, 0.0157, 0.0157],\n",
       "         [0.4627, 0.4627, 0.4627, 0.4627],\n",
       "         [0.8667, 0.8667, 0.8667, 0.8667],\n",
       "         ...,\n",
       "         [0.8784, 0.8784, 0.8784, 0.8784],\n",
       "         [0.8784, 0.8784, 0.8784, 0.8784],\n",
       "         [0.8784, 0.8784, 0.8784, 0.8784]],\n",
       "\n",
       "        [[0.0157, 0.0157, 0.0157, 0.0157],\n",
       "         [0.4627, 0.4627, 0.4627, 0.4627],\n",
       "         [0.8667, 0.8667, 0.8667, 0.8667],\n",
       "         ...,\n",
       "         [0.8784, 0.8784, 0.8784, 0.8784],\n",
       "         [0.8784, 0.8784, 0.8784, 0.8784],\n",
       "         [0.8784, 0.8784, 0.8784, 0.8784]],\n",
       "\n",
       "        [[0.0157, 0.0157, 0.0157, 0.0157],\n",
       "         [0.4627, 0.4627, 0.4627, 0.4627],\n",
       "         [0.8667, 0.8667, 0.8667, 0.8667],\n",
       "         ...,\n",
       "         [0.8784, 0.8784, 0.8784, 0.8784],\n",
       "         [0.8784, 0.8784, 0.8784, 0.8784],\n",
       "         [0.8784, 0.8784, 0.8784, 0.8784]]], dtype=torch.float64)"
      ]
     },
     "execution_count": 53,
     "metadata": {},
     "output_type": "execute_result"
    }
   ],
   "source": [
    "img"
   ]
  },
  {
   "cell_type": "code",
   "execution_count": null,
   "metadata": {},
   "outputs": [],
   "source": []
  }
 ],
 "metadata": {
  "kernelspec": {
   "display_name": "Python 3",
   "language": "python",
   "name": "python3"
  },
  "language_info": {
   "codemirror_mode": {
    "name": "ipython",
    "version": 3
   },
   "file_extension": ".py",
   "mimetype": "text/x-python",
   "name": "python",
   "nbconvert_exporter": "python",
   "pygments_lexer": "ipython3",
   "version": "3.6.7"
  }
 },
 "nbformat": 4,
 "nbformat_minor": 2
}
